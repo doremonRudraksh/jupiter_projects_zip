{
 "cells": [
  {
   "cell_type": "code",
   "execution_count": null,
   "metadata": {},
   "outputs": [],
   "source": [
    "print(\"Name : \")\n",
    "print(\"We will be learning how to create a application on juipter which has GUI elements and how to manuipulate the output as per the values selected from the GUI components\")"
   ]
  },
  {
   "cell_type": "markdown",
   "metadata": {},
   "source": [
    "# Code for GUI compenents and manuipulating the output"
   ]
  },
  {
   "cell_type": "code",
   "execution_count": 1,
   "metadata": {},
   "outputs": [
    {
     "name": "stdout",
     "output_type": "stream",
     "text": [
      "Select_files\n"
     ]
    }
   ],
   "source": [
    "from ipywidgets import widgets\n",
    "from IPython.display import display, clear_output\n",
    "import pandas as pd\n",
    "import matplotlib.pyplot as plt \n",
    "from tkinter import Tk, filedialog\n",
    "\n",
    "graph_type = ['Choose one.. ','line','bar']\n",
    "df = ''\n",
    "def select_files(b):\n",
    "    clear_output()\n",
    "    print('Select_files')\n",
    "    global graph_type\n",
    "    global df \n",
    "    root = Tk()\n",
    "    root.withdraw()\n",
    "    file_name = filedialog.askopenfilename()\n",
    "    df = pd.read_csv(file_name)\n",
    "    print(file_name)\n",
    "    xlabelwidget = widgets.Dropdown(options = df.columns)\n",
    "    ylabelwidget = widgets.Dropdown(options = df.columns)\n",
    "    graph_widget = widgets.Dropdown(options = graph_type)\n",
    "    graph = widget.interactive(display_plot,xaxis = xlabelwidget,yaxis=ylabelwidget,graph_type = graph_widget)\n",
    "    display(graph)\n",
    "fileselect = widgets.Button(description=\"File select\")\n",
    "fileselect.on_click(select_files) \n",
    "display(fileselect)\n",
    "\n",
    "def display_plot(xaxis,yaxis,graph_type):\n",
    "    global df\n",
    "    if(graph_type==\"line\"):\n",
    "        plt.subplots(figsize=(19,8))\n",
    "        plt.plot(df[xaxis],df[yaxis],linewidth=3.0)\n",
    "        plt.xlabel(xaxis)\n",
    "        plt.ylabel(yaxis)\n",
    "        plt.show()\n",
    "    elif(graph_type==\"bar\"):\n",
    "        plt.subplots(figsize=(19,8))\n",
    "        plt.bar(df[xaxis],df[yaxis],colors = [\"red\",\"blue\",\"green\",\"yellow\",\"black\"])\n",
    "        plt.xlabel(xaxis)\n",
    "        plt.xticks(rotation=\"vertical\")\n",
    "        plt.ylabel(ylabel)\n",
    "        plt.show()\n",
    "    else:\n",
    "        print(\"CHOOSE A VALID OPTION\")\n",
    "        \n",
    "    \n"
   ]
  },
  {
   "cell_type": "code",
   "execution_count": 1,
   "metadata": {},
   "outputs": [],
   "source": [
    "from ipywidgets import widgets\n",
    "from  IPython.display import display, clear_output\n",
    "import pandas as pd \n",
    "import matplotlib.pyplot as plt \n",
    "from tkinter import Tk, filedialog \n",
    "graph_type = ['Choose one.. ','line','bar'] \n",
    "df = ''\n",
    "def select_files(b):\n",
    "    # Predefined code\n",
    "    clear_output()\n",
    "    global graph_type\n",
    "    global df\n",
    "    root = Tk()\n",
    "    root.withdraw() # Hide the main window. \n",
    "    file_name = filedialog.askopenfilename() # List of selected files will be set button's file attribute.\n",
    "    df = pd.read_csv(file_name) # Print the list of files selected.\n",
    "    print(file_name)\n",
    "    xlabel_widget = widgets.Dropdown(options = df.columns) \n",
    "    ylabel_widget = widgets.Dropdown(options = df.columns) \n",
    "    graph_widget = widgets.Dropdown(options = graph_type)\n",
    "    graph = widgets.interactive(display_plot, xaxis=xlabel_widget, yaxis= ylabel_widget, graph_type = graph_widget)\n",
    "    display(graph)\n",
    "def display_plot(xaxis, yaxis, graph_type):\n",
    "    global df \n",
    "    if(graph_type == 'line'):\n",
    "        plt.subplots(figsize=(19,8))\n",
    "        plt.plot(df[xaxis], df[yaxis], linewidth=3.0)\n",
    "        plt.xlabel(xaxis)\n",
    "        plt.ylabel(yaxis) \n",
    "        plt.show()\n",
    "    elif(graph_type == 'bar'): \n",
    "        plt.subplots(figsize=(19,8))\n",
    "        plt.bar(df[xaxis], df[yaxis], color=['red', 'green','blue','yellow','pink'])\n",
    "        plt.xlabel(xaxis)\n",
    "        plt.xticks(rotation='vertical')\n",
    "        plt.ylabel(yaxis) \n",
    "        plt.show() \n",
    "    else: \n",
    "        print(\"Choose valid graph\") # Predefined code \n",
    "        \n",
    "fileselect = widgets.Button(description=\"File select\")\n",
    "fileselect.on_click(select_files) \n",
    "display(fileselect)\n",
    "    \n"
   ]
  },
  {
   "cell_type": "code",
   "execution_count": null,
   "metadata": {},
   "outputs": [],
   "source": []
  }
 ],
 "metadata": {
  "kernelspec": {
   "display_name": "Python 3 (ipykernel)",
   "language": "python",
   "name": "python3"
  },
  "language_info": {
   "codemirror_mode": {
    "name": "ipython",
    "version": 3
   },
   "file_extension": ".py",
   "mimetype": "text/x-python",
   "name": "python",
   "nbconvert_exporter": "python",
   "pygments_lexer": "ipython3",
   "version": "3.10.9"
  }
 },
 "nbformat": 4,
 "nbformat_minor": 4
}
